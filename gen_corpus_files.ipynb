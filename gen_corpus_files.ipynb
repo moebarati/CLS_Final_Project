{
  "nbformat": 4,
  "nbformat_minor": 0,
  "metadata": {
    "colab": {
      "name": "gen_corpus_files.ipynb",
      "provenance": [],
      "authorship_tag": "ABX9TyOEVft9DxEPMX9pY5spY8R9",
      "include_colab_link": true
    },
    "kernelspec": {
      "name": "python3",
      "display_name": "Python 3"
    },
    "language_info": {
      "name": "python"
    }
  },
  "cells": [
    {
      "cell_type": "markdown",
      "metadata": {
        "id": "view-in-github",
        "colab_type": "text"
      },
      "source": [
        "<a href=\"https://colab.research.google.com/github/moebarati/CLS_Final_Project/blob/main/gen_corpus_files.ipynb\" target=\"_parent\"><img src=\"https://colab.research.google.com/assets/colab-badge.svg\" alt=\"Open In Colab\"/></a>"
      ]
    },
    {
      "cell_type": "code",
      "source": [
        "####### IMPORTING AND DOWNLOADING THE NECESSARY LIBARARIES AND MODULES\n",
        "import pandas as pd\n",
        "import re\n",
        "import numpy as np\n",
        "import seaborn as sn\n",
        "import os\n",
        "import glob\n",
        "import matplotlib.pyplot as plt\n",
        "%matplotlib inline\n",
        "\n",
        "from collections import Counter\n",
        "from zipfile import ZipFile\n",
        "from google.colab import drive\n",
        "\n",
        "import nltk\n",
        "nltk.download('wordnet')\n",
        "nltk.download('omw-1.4')\n",
        "from nltk.stem import WordNetLemmatizer\n",
        "from nltk.corpus import wordnet\n",
        "\n",
        "drive.mount('/content/gdrive')"
      ],
      "metadata": {
        "colab": {
          "base_uri": "https://localhost:8080/"
        },
        "id": "nglS0yWgO9Cf",
        "outputId": "6ee1efc9-b36a-4f9b-833a-a8cc796038d3"
      },
      "execution_count": null,
      "outputs": [
        {
          "output_type": "stream",
          "name": "stderr",
          "text": [
            "[nltk_data] Downloading package wordnet to /root/nltk_data...\n",
            "[nltk_data]   Package wordnet is already up-to-date!\n",
            "[nltk_data] Downloading package omw-1.4 to /root/nltk_data...\n",
            "[nltk_data]   Unzipping corpora/omw-1.4.zip.\n"
          ]
        },
        {
          "output_type": "stream",
          "name": "stdout",
          "text": [
            "Drive already mounted at /content/gdrive; to attempt to forcibly remount, call drive.mount(\"/content/gdrive\", force_remount=True).\n"
          ]
        }
      ]
    },
    {
      "cell_type": "code",
      "source": [
        "colors = ['yellow', 'beige', 'cadet blue', 'royal blue', 'denim', 'slate blue', 'honeydew', 'dark slate gray', 'taffy', 'plum', 'artichoke', 'dijon',\n",
        "          'cornsilk', 'pineapple', 'royal', 'lemon chiffon', 'indian red', 'shadow', 'coffee', 'gold', 'mocha', 'tiger', 'white', 'syrup', 'wheat',\n",
        "          'orange red', 'fuchsla', 'pine', 'flamingo', 'space', 'emerald', 'ghost white', 'electric', 'magenta', 'tortilla', 'azure', 'sea', 'pigeon',\n",
        "          'dark orange', 'floral white', 'sky blue', 'whitesmoke', 'chilli', 'green', 'laurel', 'light grey', 'gainsboro', 'light sea green', 'olive',\n",
        "          'trombone', 'green yellow', 'yale', 'coral', 'old lace', 'light sky blue', 'chocolate', 'lemonade', 'bronze', 'walnut', 'pale goldenrod', 'baby',\n",
        "          'barn', 'wood', 'dark violet', 'silver', 'mink', 'pecan', 'raspberry', 'rose', 'pearl', 'khaki', 'cerise', 'tawny', 'pewter', 'air force',\n",
        "          'hickory', 'medium turquoise', 'moccasin', 'trout', 'anchor', 'medium sea green', 'army', 'carmine', 'redwood', 'mulberry', 'sky', 'punch',\n",
        "          'espresso', 'ultra', 'thunder', 'mellow', 'dodger blue', 'sepia', 'dark turquoise', 'turkish', 'navy', 'carmel', 'amethyst', 'tangerine',\n",
        "          'sea shell', 'bumblebee', 'sangria', 'medium aquamarine', 'cedar', 'fossil', 'egyptian', 'ash', 'rust', 'fire', 'honey', 'laguna', 'ferrari',\n",
        "          'cinnamon', 'mint', 'steel blue', 'light coral', 'lemon', 'spice', 'saddle brown', 'sage', 'persian', 'forest green', 'midnight blue', 'misty rose',\n",
        "          'creamy', 'charcoal', 'french', 'tuscany', 'peru', 'peach puff', 'moss', 'indian', 'lavender blush', 'african', 'hot pink', 'mint cream', 'peach',\n",
        "          'teal', 'jade', 'dark blue', 'olive drab', 'mauve', 'ruby', 'dark goldenrod', 'thulian', 'rhino', 'prussian', 'iron', 'olympic', 'blanched almond',\n",
        "          'navajo white', 'lime', 'flaxen', 'dark olive green', 'jungle', 'fern', 'carolina', 'ochre', 'indigo', 'light yellow', 'fuchsia', 'cornflower',\n",
        "          'tea', 'mustard', 'blue violet', 'fire brick', 'burnt', 'firebrick', 'clay', 'russet', 'carrot', 'hunter', 'sapphire', 'black', 'lawn green',\n",
        "          'light blue', 'purple', 'turquoise', 'pale green', 'seagreen', 'medium spring green', 'harbour', 'antique white', 'hibiscus', 'apricot',\n",
        "          'medium blue', 'light cyan', 'steel', 'dark khaki', 'dark magenta', 'seal', 'floral', 'banana', 'maya', 'helio', 'dark seagreen', 'lava',\n",
        "          'light salmon', 'alice blue', 'medium violet red', 'byzantine', 'cyan', 'imperial', 'pale violet red', 'tomato', 'sacramento', 'bubblegum',\n",
        "          'dark red', 'dark green', 'independence', 'sienna', 'brunette', 'apple', 'peanut', 'linen', 'pink', 'grape', 'dark gray', 'gray', 'pale turquoise',\n",
        "          'thistle', 'brick', 'medium slate blue', 'amber', 'yellow green', 'aquamarine', 'umber', 'ecru', 'red', 'cream', 'tan', 'salmon', 'deep pink',\n",
        "          'rosy brown', 'spring green', 'dark salmon', 'powder blue', 'dark cyan', 'stone', 'fandango', 'abalone', 'orchid', 'maroon', 'light goldenrod yellow',\n",
        "          'dark orchid', 'violet', 'lime green', 'mahogany', 'ivory', 'orange', 'burgundy', 'bisque', 'burlywood', 'dark slate blue', 'blue', 'dim gray',\n",
        "          'light pink', 'goldenrod', 'papaya whip', 'carnation', 'light steel blue', 'pumpkin', 'USA flag', 'smoke', 'light green', 'light slate gray',\n",
        "          'medium orchid', 'chartreuse', 'aqua', 'kelly', 'cornflower blue', 'scarlet', 'forest', 'crimson', 'lavender', 'amaranth', 'deep sky blue',\n",
        "          'medium purple', 'snow', 'sandy brown', 'eggplant', 'eggnog', 'bread', 'cider', 'cyber', 'flax', 'hot', 'lollipop', 'corn', 'brown']\n",
        "\n",
        "len(colors)"
      ],
      "metadata": {
        "colab": {
          "base_uri": "https://localhost:8080/"
        },
        "id": "MtvQp1XgOL8D",
        "outputId": "c45e1e8e-7c4a-4490-c898-08cfdbaee360"
      },
      "execution_count": null,
      "outputs": [
        {
          "output_type": "execute_result",
          "data": {
            "text/plain": [
              "290"
            ]
          },
          "metadata": {},
          "execution_count": 2
        }
      ]
    },
    {
      "cell_type": "code",
      "source": [
        "# !unzip 'gdrive/MyDrive/ColabNotebooks/NLP_Files/SharedFolder/CLS/Data/clmet3_1.zip' -d 'gdrive/MyDrive/ColabNotebooks/NLP_Files/SharedFolder/CLS/Data'"
      ],
      "metadata": {
        "id": "M3NnrM0JResM"
      },
      "execution_count": null,
      "outputs": []
    },
    {
      "cell_type": "code",
      "source": [
        "meta_data = 'gdrive/MyDrive/ColabNotebooks/NLP_Files/SharedFolder/CLS/Data/clmet/docs/CLMET3_1_metainfo.xlsx'"
      ],
      "metadata": {
        "id": "PZ-_ioYvUAFl"
      },
      "execution_count": null,
      "outputs": []
    },
    {
      "cell_type": "code",
      "source": [
        "meta = pd.read_excel(meta_data, sheet_name = 'CLMET3.1') \n",
        "meta.head()"
      ],
      "metadata": {
        "colab": {
          "base_uri": "https://localhost:8080/",
          "height": 548
        },
        "id": "_Q3IJFMCVPhF",
        "outputId": "0a25ff97-1d7e-4663-b2b4-9a80a9bd4d3b"
      },
      "execution_count": null,
      "outputs": [
        {
          "output_type": "stream",
          "name": "stderr",
          "text": [
            "/usr/local/lib/python3.7/dist-packages/openpyxl/worksheet/_reader.py:312: UserWarning: Unknown extension is not supported and will be removed\n",
            "  warn(msg)\n"
          ]
        },
        {
          "output_type": "execute_result",
          "data": {
            "text/plain": [
              "   ID              FILE     PERIOD  QUARTCENT DECADE  YEAR     GENRE SUBGENRE  \\\n",
              "0   1  CLMET3_1_1_1.txt  1710-1780  1700-1724  1710s  1710  Treatise    treat   \n",
              "1   2  CLMET3_1_1_2.txt  1710-1780  1700-1724  1710s  1717     Drama    drama   \n",
              "2   3  CLMET3_1_1_3.txt  1710-1780  1725-1749  1720s  1728     Drama    drama   \n",
              "3   4  CLMET3_1_1_4.txt  1710-1780  1725-1749  1730s  1735  Treatise    treat   \n",
              "4   5  CLMET3_1_1_5.txt  1710-1780  1725-1749  1730s  1732     Other        x   \n",
              "\n",
              "                                               TITLE            AUTHOR GENDER  \\\n",
              "0  A treatise concerning the principles of human ...  Berkeley, George      M   \n",
              "1                         Three hours after marriage         Gay, John      M   \n",
              "2                                 The beggarís opera         Gay, John      M   \n",
              "3          A defence of free-thinking in mathematics  Berkeley, George      M   \n",
              "4          The country housewife and ladyís director  Bradley, Richard      M   \n",
              "\n",
              "  AUTHOR_BIRTH                                NOTES  \\\n",
              "0         1685                                  NaN   \n",
              "1         1685                                  NaN   \n",
              "2         1685                         ballad opera   \n",
              "3         1685                                  NaN   \n",
              "4         1688  instructive writing, mostly recipes   \n",
              "\n",
              "                                              SOURCE           DOWNLOADED  \\\n",
              "0               http://ota.ahds.ac.uk/text/4634.html  2012-09-25 00:00:00   \n",
              "1  http://www.gutenberg.org/cache/epub/37667/pg37...  2012-09-25 00:00:00   \n",
              "2  http://www.gutenberg.org/cache/epub/25063/pg25...  2012-09-25 00:00:00   \n",
              "3               http://ota.ahds.ac.uk/text/4919.html  2012-09-25 00:00:00   \n",
              "4  http://www.gutenberg.org/cache/epub/7262/pg726...  2012-09-25 00:00:00   \n",
              "\n",
              "  COMMENTS  \n",
              "0      NaN  \n",
              "1      NaN  \n",
              "2      NaN  \n",
              "3      NaN  \n",
              "4      NaN  "
            ],
            "text/html": [
              "\n",
              "  <div id=\"df-efc26bd7-6448-4cd9-bea7-e375e2e53c1e\">\n",
              "    <div class=\"colab-df-container\">\n",
              "      <div>\n",
              "<style scoped>\n",
              "    .dataframe tbody tr th:only-of-type {\n",
              "        vertical-align: middle;\n",
              "    }\n",
              "\n",
              "    .dataframe tbody tr th {\n",
              "        vertical-align: top;\n",
              "    }\n",
              "\n",
              "    .dataframe thead th {\n",
              "        text-align: right;\n",
              "    }\n",
              "</style>\n",
              "<table border=\"1\" class=\"dataframe\">\n",
              "  <thead>\n",
              "    <tr style=\"text-align: right;\">\n",
              "      <th></th>\n",
              "      <th>ID</th>\n",
              "      <th>FILE</th>\n",
              "      <th>PERIOD</th>\n",
              "      <th>QUARTCENT</th>\n",
              "      <th>DECADE</th>\n",
              "      <th>YEAR</th>\n",
              "      <th>GENRE</th>\n",
              "      <th>SUBGENRE</th>\n",
              "      <th>TITLE</th>\n",
              "      <th>AUTHOR</th>\n",
              "      <th>GENDER</th>\n",
              "      <th>AUTHOR_BIRTH</th>\n",
              "      <th>NOTES</th>\n",
              "      <th>SOURCE</th>\n",
              "      <th>DOWNLOADED</th>\n",
              "      <th>COMMENTS</th>\n",
              "    </tr>\n",
              "  </thead>\n",
              "  <tbody>\n",
              "    <tr>\n",
              "      <th>0</th>\n",
              "      <td>1</td>\n",
              "      <td>CLMET3_1_1_1.txt</td>\n",
              "      <td>1710-1780</td>\n",
              "      <td>1700-1724</td>\n",
              "      <td>1710s</td>\n",
              "      <td>1710</td>\n",
              "      <td>Treatise</td>\n",
              "      <td>treat</td>\n",
              "      <td>A treatise concerning the principles of human ...</td>\n",
              "      <td>Berkeley, George</td>\n",
              "      <td>M</td>\n",
              "      <td>1685</td>\n",
              "      <td>NaN</td>\n",
              "      <td>http://ota.ahds.ac.uk/text/4634.html</td>\n",
              "      <td>2012-09-25 00:00:00</td>\n",
              "      <td>NaN</td>\n",
              "    </tr>\n",
              "    <tr>\n",
              "      <th>1</th>\n",
              "      <td>2</td>\n",
              "      <td>CLMET3_1_1_2.txt</td>\n",
              "      <td>1710-1780</td>\n",
              "      <td>1700-1724</td>\n",
              "      <td>1710s</td>\n",
              "      <td>1717</td>\n",
              "      <td>Drama</td>\n",
              "      <td>drama</td>\n",
              "      <td>Three hours after marriage</td>\n",
              "      <td>Gay, John</td>\n",
              "      <td>M</td>\n",
              "      <td>1685</td>\n",
              "      <td>NaN</td>\n",
              "      <td>http://www.gutenberg.org/cache/epub/37667/pg37...</td>\n",
              "      <td>2012-09-25 00:00:00</td>\n",
              "      <td>NaN</td>\n",
              "    </tr>\n",
              "    <tr>\n",
              "      <th>2</th>\n",
              "      <td>3</td>\n",
              "      <td>CLMET3_1_1_3.txt</td>\n",
              "      <td>1710-1780</td>\n",
              "      <td>1725-1749</td>\n",
              "      <td>1720s</td>\n",
              "      <td>1728</td>\n",
              "      <td>Drama</td>\n",
              "      <td>drama</td>\n",
              "      <td>The beggarís opera</td>\n",
              "      <td>Gay, John</td>\n",
              "      <td>M</td>\n",
              "      <td>1685</td>\n",
              "      <td>ballad opera</td>\n",
              "      <td>http://www.gutenberg.org/cache/epub/25063/pg25...</td>\n",
              "      <td>2012-09-25 00:00:00</td>\n",
              "      <td>NaN</td>\n",
              "    </tr>\n",
              "    <tr>\n",
              "      <th>3</th>\n",
              "      <td>4</td>\n",
              "      <td>CLMET3_1_1_4.txt</td>\n",
              "      <td>1710-1780</td>\n",
              "      <td>1725-1749</td>\n",
              "      <td>1730s</td>\n",
              "      <td>1735</td>\n",
              "      <td>Treatise</td>\n",
              "      <td>treat</td>\n",
              "      <td>A defence of free-thinking in mathematics</td>\n",
              "      <td>Berkeley, George</td>\n",
              "      <td>M</td>\n",
              "      <td>1685</td>\n",
              "      <td>NaN</td>\n",
              "      <td>http://ota.ahds.ac.uk/text/4919.html</td>\n",
              "      <td>2012-09-25 00:00:00</td>\n",
              "      <td>NaN</td>\n",
              "    </tr>\n",
              "    <tr>\n",
              "      <th>4</th>\n",
              "      <td>5</td>\n",
              "      <td>CLMET3_1_1_5.txt</td>\n",
              "      <td>1710-1780</td>\n",
              "      <td>1725-1749</td>\n",
              "      <td>1730s</td>\n",
              "      <td>1732</td>\n",
              "      <td>Other</td>\n",
              "      <td>x</td>\n",
              "      <td>The country housewife and ladyís director</td>\n",
              "      <td>Bradley, Richard</td>\n",
              "      <td>M</td>\n",
              "      <td>1688</td>\n",
              "      <td>instructive writing, mostly recipes</td>\n",
              "      <td>http://www.gutenberg.org/cache/epub/7262/pg726...</td>\n",
              "      <td>2012-09-25 00:00:00</td>\n",
              "      <td>NaN</td>\n",
              "    </tr>\n",
              "  </tbody>\n",
              "</table>\n",
              "</div>\n",
              "      <button class=\"colab-df-convert\" onclick=\"convertToInteractive('df-efc26bd7-6448-4cd9-bea7-e375e2e53c1e')\"\n",
              "              title=\"Convert this dataframe to an interactive table.\"\n",
              "              style=\"display:none;\">\n",
              "        \n",
              "  <svg xmlns=\"http://www.w3.org/2000/svg\" height=\"24px\"viewBox=\"0 0 24 24\"\n",
              "       width=\"24px\">\n",
              "    <path d=\"M0 0h24v24H0V0z\" fill=\"none\"/>\n",
              "    <path d=\"M18.56 5.44l.94 2.06.94-2.06 2.06-.94-2.06-.94-.94-2.06-.94 2.06-2.06.94zm-11 1L8.5 8.5l.94-2.06 2.06-.94-2.06-.94L8.5 2.5l-.94 2.06-2.06.94zm10 10l.94 2.06.94-2.06 2.06-.94-2.06-.94-.94-2.06-.94 2.06-2.06.94z\"/><path d=\"M17.41 7.96l-1.37-1.37c-.4-.4-.92-.59-1.43-.59-.52 0-1.04.2-1.43.59L10.3 9.45l-7.72 7.72c-.78.78-.78 2.05 0 2.83L4 21.41c.39.39.9.59 1.41.59.51 0 1.02-.2 1.41-.59l7.78-7.78 2.81-2.81c.8-.78.8-2.07 0-2.86zM5.41 20L4 18.59l7.72-7.72 1.47 1.35L5.41 20z\"/>\n",
              "  </svg>\n",
              "      </button>\n",
              "      \n",
              "  <style>\n",
              "    .colab-df-container {\n",
              "      display:flex;\n",
              "      flex-wrap:wrap;\n",
              "      gap: 12px;\n",
              "    }\n",
              "\n",
              "    .colab-df-convert {\n",
              "      background-color: #E8F0FE;\n",
              "      border: none;\n",
              "      border-radius: 50%;\n",
              "      cursor: pointer;\n",
              "      display: none;\n",
              "      fill: #1967D2;\n",
              "      height: 32px;\n",
              "      padding: 0 0 0 0;\n",
              "      width: 32px;\n",
              "    }\n",
              "\n",
              "    .colab-df-convert:hover {\n",
              "      background-color: #E2EBFA;\n",
              "      box-shadow: 0px 1px 2px rgba(60, 64, 67, 0.3), 0px 1px 3px 1px rgba(60, 64, 67, 0.15);\n",
              "      fill: #174EA6;\n",
              "    }\n",
              "\n",
              "    [theme=dark] .colab-df-convert {\n",
              "      background-color: #3B4455;\n",
              "      fill: #D2E3FC;\n",
              "    }\n",
              "\n",
              "    [theme=dark] .colab-df-convert:hover {\n",
              "      background-color: #434B5C;\n",
              "      box-shadow: 0px 1px 3px 1px rgba(0, 0, 0, 0.15);\n",
              "      filter: drop-shadow(0px 1px 2px rgba(0, 0, 0, 0.3));\n",
              "      fill: #FFFFFF;\n",
              "    }\n",
              "  </style>\n",
              "\n",
              "      <script>\n",
              "        const buttonEl =\n",
              "          document.querySelector('#df-efc26bd7-6448-4cd9-bea7-e375e2e53c1e button.colab-df-convert');\n",
              "        buttonEl.style.display =\n",
              "          google.colab.kernel.accessAllowed ? 'block' : 'none';\n",
              "\n",
              "        async function convertToInteractive(key) {\n",
              "          const element = document.querySelector('#df-efc26bd7-6448-4cd9-bea7-e375e2e53c1e');\n",
              "          const dataTable =\n",
              "            await google.colab.kernel.invokeFunction('convertToInteractive',\n",
              "                                                     [key], {});\n",
              "          if (!dataTable) return;\n",
              "\n",
              "          const docLinkHtml = 'Like what you see? Visit the ' +\n",
              "            '<a target=\"_blank\" href=https://colab.research.google.com/notebooks/data_table.ipynb>data table notebook</a>'\n",
              "            + ' to learn more about interactive tables.';\n",
              "          element.innerHTML = '';\n",
              "          dataTable['output_type'] = 'display_data';\n",
              "          await google.colab.output.renderOutput(dataTable, element);\n",
              "          const docLink = document.createElement('div');\n",
              "          docLink.innerHTML = docLinkHtml;\n",
              "          element.appendChild(docLink);\n",
              "        }\n",
              "      </script>\n",
              "    </div>\n",
              "  </div>\n",
              "  "
            ]
          },
          "metadata": {},
          "execution_count": 21
        }
      ]
    },
    {
      "cell_type": "code",
      "source": [
        "filenames = []\n",
        "\n",
        "for filename in meta['FILE']:\n",
        "  filenames.append(filename)\n",
        "\n",
        "lens = []\n",
        "for filename in filenames:\n",
        "  filepath = 'gdrive/MyDrive/ColabNotebooks/NLP_Files/SharedFolder/CLS/Data/clmet/corpus/txt/pos/' + filename\n",
        "  with open(filepath, encoding='utf-8') as file:\n",
        "    content = file.read()\n",
        "    text = re.sub(r'\\<.*?\\>', \"\", content)\n",
        "    tokens = text.lower().split()\n",
        "    lens.append(len(tokens))\n",
        "\n",
        "meta['n_tokens'] = lens"
      ],
      "metadata": {
        "id": "Hf2obNxtWmEz"
      },
      "execution_count": null,
      "outputs": []
    },
    {
      "cell_type": "code",
      "source": [
        "authors = meta['AUTHOR'].unique()\n",
        "print(\"Number of individual authors in the corpus: \" + str(len(authors)))"
      ],
      "metadata": {
        "colab": {
          "base_uri": "https://localhost:8080/"
        },
        "id": "6z9JixAnTnAq",
        "outputId": "aaf9f0d4-a498-443f-92e5-558cbfdeb0e8"
      },
      "execution_count": null,
      "outputs": [
        {
          "output_type": "stream",
          "name": "stdout",
          "text": [
            "Number of individual authors in the corpus: 206\n"
          ]
        }
      ]
    },
    {
      "cell_type": "code",
      "source": [
        "author_gender = meta.groupby('GENDER')['AUTHOR'].nunique()\n",
        "print(author_gender)\n",
        "author_gender.plot(kind = 'bar')\n",
        "plt.xticks(rotation = 90)\n",
        "plt.show()"
      ],
      "metadata": {
        "colab": {
          "base_uri": "https://localhost:8080/",
          "height": 432
        },
        "id": "mFy0zAsYUHxo",
        "outputId": "e26345b4-5c47-4e81-953c-1a49600cb0b1"
      },
      "execution_count": null,
      "outputs": [
        {
          "output_type": "stream",
          "name": "stdout",
          "text": [
            "GENDER\n",
            "F        45\n",
            "F, M      1\n",
            "M       158\n",
            "M, F      1\n",
            "M, M      1\n",
            "X         1\n",
            "Name: AUTHOR, dtype: int64\n"
          ]
        },
        {
          "output_type": "display_data",
          "data": {
            "text/plain": [
              "<Figure size 432x288 with 1 Axes>"
            ],
            "image/png": "[encoded data removed]"
          },
          "metadata": {
            "needs_background": "light"
          }
        }
      ]
    },
    {
      "cell_type": "code",
      "source": [
        "# Number of authors by the number of their works included in the corpus\n",
        "\n",
        "author_book = pd.DataFrame(meta['AUTHOR'].value_counts()).reset_index()\n",
        "author_book.columns = ['author', 'counts']\n",
        "author_book['counts'].value_counts()"
      ],
      "metadata": {
        "colab": {
          "base_uri": "https://localhost:8080/"
        },
        "id": "M2CegVJS8dOJ",
        "outputId": "c8543f9c-d823-4dc1-e2fa-07ba735c3f7c"
      },
      "execution_count": null,
      "outputs": [
        {
          "output_type": "execute_result",
          "data": {
            "text/plain": [
              "1    123\n",
              "3     44\n",
              "2     39\n",
              "Name: counts, dtype: int64"
            ]
          },
          "metadata": {},
          "execution_count": 8
        }
      ]
    },
    {
      "cell_type": "code",
      "source": [
        "genre_count = meta['GENRE'].value_counts()\n",
        "print(genre_count)\n",
        "genre_count.plot(kind = 'bar')\n",
        "plt.xticks(rotation = 90)\n",
        "plt.show()"
      ],
      "metadata": {
        "colab": {
          "base_uri": "https://localhost:8080/",
          "height": 480
        },
        "id": "WZx9Bwvx-jeP",
        "outputId": "4c522cf2-b3be-4af9-cf1b-ecd8596eb2f7"
      },
      "execution_count": null,
      "outputs": [
        {
          "output_type": "stream",
          "name": "stdout",
          "text": [
            "Narrative fiction        127\n",
            "Drama                     74\n",
            "Treatise                  55\n",
            "Other                     37\n",
            "Narrative non-fiction     27\n",
            "LET                       13\n",
            "Name: GENRE, dtype: int64\n"
          ]
        },
        {
          "output_type": "display_data",
          "data": {
            "text/plain": [
              "<Figure size 432x288 with 1 Axes>"
            ],
            "image/png": "[encoded data removed]"
          },
          "metadata": {
            "needs_background": "light"
          }
        }
      ]
    },
    {
      "cell_type": "code",
      "source": [
        "author_period = meta.groupby('PERIOD')['AUTHOR'].nunique()\n",
        "print(author_period)\n",
        "author_period.plot(kind = 'bar')\n",
        "plt.xticks(rotation = 90)\n",
        "plt.show()"
      ],
      "metadata": {
        "colab": {
          "base_uri": "https://localhost:8080/",
          "height": 411
        },
        "id": "minxyA4AchWi",
        "outputId": "c5512656-0091-4296-cb8f-4c53a6a2f508"
      },
      "execution_count": null,
      "outputs": [
        {
          "output_type": "stream",
          "name": "stdout",
          "text": [
            "PERIOD\n",
            "1710-1780    51\n",
            "1780-1850    69\n",
            "1850-1920    88\n",
            "Name: AUTHOR, dtype: int64\n"
          ]
        },
        {
          "output_type": "display_data",
          "data": {
            "text/plain": [
              "<Figure size 432x288 with 1 Axes>"
            ],
            "image/png": "[encoded data removed]"
          },
          "metadata": {
            "needs_background": "light"
          }
        }
      ]
    },
    {
      "cell_type": "code",
      "source": [
        "genre_gender = meta.groupby('GENRE')['GENDER'].value_counts()\n",
        "print(genre_gender)\n",
        "genre_gender.plot(kind = 'bar')\n",
        "plt.xticks(rotation = 90)\n",
        "plt.show()"
      ],
      "metadata": {
        "colab": {
          "base_uri": "https://localhost:8080/",
          "height": 707
        },
        "id": "lpfk4tos_XHa",
        "outputId": "258e75e2-f546-4485-a8ab-3268d6d520f3"
      },
      "execution_count": null,
      "outputs": [
        {
          "output_type": "stream",
          "name": "stdout",
          "text": [
            "GENRE                  GENDER\n",
            "Drama                  M         59\n",
            "                       F         15\n",
            "LET                    M         10\n",
            "                       F          2\n",
            "                       F, M       1\n",
            "Narrative fiction      M         85\n",
            "                       F         40\n",
            "                       M, F       1\n",
            "                       M, M       1\n",
            "Narrative non-fiction  M         23\n",
            "                       F          4\n",
            "Other                  M         28\n",
            "                       F          6\n",
            "                       X          3\n",
            "Treatise               M         53\n",
            "                       F          2\n",
            "Name: GENDER, dtype: int64\n"
          ]
        },
        {
          "output_type": "display_data",
          "data": {
            "text/plain": [
              "<Figure size 432x288 with 1 Axes>"
            ],
            "image/png": "[encoded data removed]"
          },
          "metadata": {
            "needs_background": "light"
          }
        }
      ]
    },
    {
      "cell_type": "code",
      "source": [
        "ggt = meta.groupby(['GENRE', 'GENDER']).agg({'n_tokens': 'sum'})\n",
        "print(ggt)\n",
        "ggt.plot(kind = 'bar')\n",
        "plt.xticks(rotation = 90)\n",
        "plt.show()"
      ],
      "metadata": {
        "colab": {
          "base_uri": "https://localhost:8080/",
          "height": 718
        },
        "id": "vlFkXsle8wV5",
        "outputId": "786363b8-353f-4990-dbf1-67c10f8db361"
      },
      "execution_count": null,
      "outputs": [
        {
          "output_type": "stream",
          "name": "stdout",
          "text": [
            "                              n_tokens\n",
            "GENRE                 GENDER          \n",
            "Drama                 F         294593\n",
            "                      M        1434571\n",
            "LET                   F         312433\n",
            "                      F, M      245621\n",
            "                      M        2047335\n",
            "Narrative fiction     F        5759641\n",
            "                      M       12822590\n",
            "                      M, F      116723\n",
            "                      M, M       51063\n",
            "Narrative non-fiction F         340726\n",
            "                      M        5164891\n",
            "Other                 F         309192\n",
            "                      M        4410047\n",
            "                      X        1817192\n",
            "Treatise              F         183105\n",
            "                      M        5038888\n"
          ]
        },
        {
          "output_type": "display_data",
          "data": {
            "text/plain": [
              "<Figure size 432x288 with 1 Axes>"
            ],
            "image/png": "[encoded data removed]"
          },
          "metadata": {
            "needs_background": "light"
          }
        }
      ]
    },
    {
      "cell_type": "code",
      "source": [
        "selected_df = meta.loc[(meta['GENRE'].isin(['Narrative fiction', 'Drama']))]"
      ],
      "metadata": {
        "id": "t5ggNT83eg5l"
      },
      "execution_count": null,
      "outputs": []
    },
    {
      "cell_type": "code",
      "source": [
        "selected_df = selected_df.loc[(selected_df['GENDER'].isin(['M', 'F']))]"
      ],
      "metadata": {
        "id": "x04Y5R2K1r_F"
      },
      "execution_count": null,
      "outputs": []
    },
    {
      "cell_type": "code",
      "source": [
        "len(selected_df)"
      ],
      "metadata": {
        "colab": {
          "base_uri": "https://localhost:8080/"
        },
        "id": "W7To5m2507CR",
        "outputId": "117eeba4-9ce0-431a-9a76-8636efa9f2f0"
      },
      "execution_count": null,
      "outputs": [
        {
          "output_type": "execute_result",
          "data": {
            "text/plain": [
              "199"
            ]
          },
          "metadata": {},
          "execution_count": 6
        }
      ]
    },
    {
      "cell_type": "code",
      "source": [
        "genre_count = selected_df['GENRE'].value_counts()\n",
        "print(genre_count)\n",
        "genre_count.plot(kind = 'bar')\n",
        "plt.xticks(rotation = 0)\n",
        "plt.show()"
      ],
      "metadata": {
        "colab": {
          "base_uri": "https://localhost:8080/",
          "height": 317
        },
        "id": "LAo5rY0W1FKf",
        "outputId": "ec490cbf-4b43-4ddc-d905-ada5315bed4c"
      },
      "execution_count": null,
      "outputs": [
        {
          "output_type": "stream",
          "name": "stdout",
          "text": [
            "Narrative fiction    125\n",
            "Drama                 74\n",
            "Name: GENRE, dtype: int64\n"
          ]
        },
        {
          "output_type": "display_data",
          "data": {
            "text/plain": [
              "<Figure size 432x288 with 1 Axes>"
            ],
            "image/png": "[encoded data removed]"
          },
          "metadata": {
            "needs_background": "light"
          }
        }
      ]
    },
    {
      "cell_type": "code",
      "source": [
        "author_gender = selected_df.groupby('GENDER')['AUTHOR'].nunique()\n",
        "print(author_gender)\n",
        "author_gender.plot(kind = 'bar')\n",
        "plt.xticks(rotation = 0)\n",
        "plt.show()"
      ],
      "metadata": {
        "colab": {
          "base_uri": "https://localhost:8080/",
          "height": 348
        },
        "id": "t5lrRggx3dOJ",
        "outputId": "6854b3dc-7b09-44ff-e62a-eed3f860c137"
      },
      "execution_count": null,
      "outputs": [
        {
          "output_type": "stream",
          "name": "stdout",
          "text": [
            "GENDER\n",
            "F    37\n",
            "M    78\n",
            "Name: AUTHOR, dtype: int64\n"
          ]
        },
        {
          "output_type": "display_data",
          "data": {
            "text/plain": [
              "<Figure size 432x288 with 1 Axes>"
            ],
            "image/png": "[encoded data removed]"
          },
          "metadata": {
            "needs_background": "light"
          }
        }
      ]
    },
    {
      "cell_type": "code",
      "source": [
        "ggt = selected_df.groupby(['GENRE', 'GENDER']).agg({'n_tokens': 'sum'})\n",
        "print(ggt)\n",
        "ggt.plot(kind = 'bar')\n",
        "plt.xticks(rotation = 90)\n",
        "plt.show()"
      ],
      "metadata": {
        "colab": {
          "base_uri": "https://localhost:8080/",
          "height": 488
        },
        "id": "bItK-qB93zfU",
        "outputId": "7fdfb63a-c9ed-4b29-c333-1f8ba2a6b9d7"
      },
      "execution_count": null,
      "outputs": [
        {
          "output_type": "stream",
          "name": "stdout",
          "text": [
            "                          n_tokens\n",
            "GENRE             GENDER          \n",
            "Drama             F         294593\n",
            "                  M        1434571\n",
            "Narrative fiction F        5759641\n",
            "                  M       12822590\n"
          ]
        },
        {
          "output_type": "display_data",
          "data": {
            "text/plain": [
              "<Figure size 432x288 with 1 Axes>"
            ],
            "image/png": "[encoded data removed]"
          },
          "metadata": {
            "needs_background": "light"
          }
        }
      ]
    },
    {
      "cell_type": "code",
      "source": [
        "author_period = selected_df.groupby('PERIOD')['AUTHOR'].nunique()\n",
        "print(author_period)\n",
        "author_period.plot(kind = 'bar')\n",
        "plt.xticks(rotation = 0)\n",
        "plt.show()"
      ],
      "metadata": {
        "colab": {
          "base_uri": "https://localhost:8080/",
          "height": 366
        },
        "id": "lvLFJLub4NXA",
        "outputId": "35437068-4571-43ea-c549-61340c42a9fa"
      },
      "execution_count": null,
      "outputs": [
        {
          "output_type": "stream",
          "name": "stdout",
          "text": [
            "PERIOD\n",
            "1710-1780    29\n",
            "1780-1850    35\n",
            "1850-1920    51\n",
            "Name: AUTHOR, dtype: int64\n"
          ]
        },
        {
          "output_type": "display_data",
          "data": {
            "text/plain": [
              "<Figure size 432x288 with 1 Axes>"
            ],
            "image/png": "[encoded data removed]"
          },
          "metadata": {
            "needs_background": "light"
          }
        }
      ]
    },
    {
      "cell_type": "code",
      "source": [
        "pgt = selected_df.groupby(['PERIOD', 'GENDER']).agg({'n_tokens': 'sum'})\n",
        "print(pgt)\n",
        "pgt.plot(kind = 'bar')\n",
        "plt.xticks(rotation = 90)\n",
        "plt.show()"
      ],
      "metadata": {
        "colab": {
          "base_uri": "https://localhost:8080/",
          "height": 496
        },
        "id": "9y0FKNcY4dP6",
        "outputId": "d78c2051-cff6-4c4c-a363-b31d006dcf20"
      },
      "execution_count": null,
      "outputs": [
        {
          "output_type": "stream",
          "name": "stdout",
          "text": [
            "                  n_tokens\n",
            "PERIOD    GENDER          \n",
            "1710-1780 F         915400\n",
            "          M        5014723\n",
            "1780-1850 F        2859915\n",
            "          M        3245829\n",
            "1850-1920 F        2278919\n",
            "          M        5996609\n"
          ]
        },
        {
          "output_type": "display_data",
          "data": {
            "text/plain": [
              "<Figure size 432x288 with 1 Axes>"
            ],
            "image/png": "[encoded data removed]"
          },
          "metadata": {
            "needs_background": "light"
          }
        }
      ]
    },
    {
      "cell_type": "code",
      "source": [
        "sel_filenames = []\n",
        "\n",
        "for filename in selected_df['FILE']:\n",
        "  sel_filenames.append(filename)\n",
        "\n",
        "frequencies = {}\n",
        "for filename in filenames:\n",
        "  filepath = 'gdrive/MyDrive/ColabNotebooks/NLP_Files/SharedFolder/CLS/Data/clmet/corpus/txt/plain/' + filename\n",
        "  with open(filepath, encoding='utf-8') as file:\n",
        "    content = file.read()\n",
        "    text = re.sub(r'\\<.*?\\>', \"\", content)\n",
        "    for color in colors:\n",
        "      word_count = text.lower().count(color)\n",
        "      frequencies[color] = frequencies.get(color, 0) + word_count"
      ],
      "metadata": {
        "id": "oOCY787KCX8M"
      },
      "execution_count": null,
      "outputs": []
    },
    {
      "cell_type": "code",
      "source": [
        "i = 1\n",
        "for k in sorted(frequencies, key=frequencies.get, reverse=True):\n",
        "  print(str(i) + \". \" + k, frequencies[k])\n",
        "  i += 1"
      ],
      "metadata": {
        "colab": {
          "base_uri": "https://localhost:8080/"
        },
        "id": "-8o5bTSIYddd",
        "outputId": "49ee7138-3398-4a0e-d0e6-f13a748e3380"
      },
      "execution_count": null,
      "outputs": [
        {
          "output_type": "stream",
          "name": "stdout",
          "text": [
            "1. red 178298\n",
            "2. tan 100323\n",
            "3. sea 27997\n",
            "4. tea 26797\n",
            "5. ash 18571\n",
            "6. umber 13997\n",
            "7. rust 10505\n",
            "8. wood 10379\n",
            "9. rose 10221\n",
            "10. fire 9747\n",
            "11. black 8573\n",
            "12. white 8360\n",
            "13. sage 8264\n",
            "14. hot 7702\n",
            "15. corn 7676\n",
            "16. pine 7572\n",
            "17. stone 6974\n",
            "18. french 6920\n",
            "19. gold 6338\n",
            "20. green 5125\n",
            "21. royal 4993\n",
            "22. amber 4721\n",
            "23. lime 4633\n",
            "24. space 3850\n",
            "25. army 3692\n",
            "26. forest 3525\n",
            "27. iron 3452\n",
            "28. blue 3309\n",
            "29. indian 3301\n",
            "30. brown 3298\n",
            "31. bread 3229\n",
            "32. silver 3220\n",
            "33. sky 2946\n",
            "34. shadow 2818\n",
            "35. snow 2098\n",
            "36. olive 2047\n",
            "37. anchor 1769\n",
            "38. yellow 1759\n",
            "39. smoke 1647\n",
            "40. thunder 1604\n",
            "41. seal 1478\n",
            "42. baby 1475\n",
            "43. barn 1457\n",
            "44. cream 1376\n",
            "45. teal 1361\n",
            "46. harbour 1232\n",
            "47. imperial 1208\n",
            "48. plum 1186\n",
            "49. coffee 1179\n",
            "50. honey 1096\n",
            "51. peru 1077\n",
            "52. egyptian 1063\n",
            "53. punch 1051\n",
            "54. gray 1048\n",
            "55. apple 991\n",
            "56. burnt 987\n",
            "57. clay 959\n",
            "58. purple 949\n",
            "59. wheat 912\n",
            "60. fern 875\n",
            "61. steel 842\n",
            "62. brick 840\n",
            "63. independence 825\n",
            "64. jungle 824\n",
            "65. persian 808\n",
            "66. hunter 792\n",
            "67. linen 774\n",
            "68. african 720\n",
            "69. fossil 715\n",
            "70. orange 703\n",
            "71. navy 670\n",
            "72. pink 668\n",
            "73. coral 644\n",
            "74. electric 599\n",
            "75. mint 597\n",
            "76. scarlet 575\n",
            "77. moss 572\n",
            "78. turkish 561\n",
            "79. crimson 557\n",
            "80. pearl 548\n",
            "81. ruby 523\n",
            "82. peach 517\n",
            "83. lemon 507\n",
            "84. pigeon 477\n",
            "85. violet 438\n",
            "86. spice 415\n",
            "87. tiger 409\n",
            "88. grape 386\n",
            "89. laurel 364\n",
            "90. ecru 357\n",
            "91. ivory 321\n",
            "92. byzantine 319\n",
            "93. aqua 301\n",
            "94. bronze 289\n",
            "95. prussian 245\n",
            "96. burgundy 226\n",
            "97. carnation 206\n",
            "98. chocolate 204\n",
            "99. mellow 199\n",
            "100. lava 193\n",
            "101. mustard 176\n",
            "102. thistle 175\n",
            "103. cedar 169\n",
            "104. carolina 166\n",
            "105. flax 152\n",
            "106. jade 151\n",
            "107. azure 150\n",
            "108. trout 148\n",
            "109. tuscany 148\n",
            "110. cider 134\n",
            "111. banana 128\n",
            "112. salmon 124\n",
            "113. rhino 122\n",
            "114. mahogany 122\n",
            "115. chilli 121\n",
            "116. walnut 119\n",
            "117. syrup 117\n",
            "118. ultra 117\n",
            "119. charcoal 112\n",
            "120. emerald 100\n",
            "121. russet 99\n",
            "122. tawny 89\n",
            "123. pewter 87\n",
            "124. helio 87\n",
            "125. lavender 72\n",
            "126. tomato 71\n",
            "127. cinnamon 65\n",
            "128. raspberry 60\n",
            "129. indigo 60\n",
            "130. sapphire 55\n",
            "131. apricot 55\n",
            "132. olympic 54\n",
            "133. orchid 53\n",
            "134. carrot 52\n",
            "135. flaxen 51\n",
            "136. pumpkin 50\n",
            "137. mulberry 49\n",
            "138. lemonade 47\n",
            "139. dark blue 47\n",
            "140. dark green 40\n",
            "141. artichoke 39\n",
            "142. yale 39\n",
            "143. trombone 33\n",
            "144. pineapple 30\n",
            "145. kelly 30\n",
            "146. light green 29\n",
            "147. carmine 28\n",
            "148. dark red 28\n",
            "149. old lace 26\n",
            "150. ochre 25\n",
            "151. seagreen 25\n",
            "152. sienna 25\n",
            "153. maroon 25\n",
            "154. turquoise 24\n",
            "155. amethyst 22\n",
            "156. carmel 19\n",
            "157. mauve 19\n",
            "158. light blue 19\n",
            "159. floral 19\n",
            "160. tortilla 18\n",
            "161. pale green 18\n",
            "162. cyan 18\n",
            "163. dijon 17\n",
            "164. flamingo 17\n",
            "165. chartreuse 17\n",
            "166. creamy 16\n",
            "167. light grey 15\n",
            "168. gainsboro 12\n",
            "169. amaranth 12\n",
            "170. hickory 11\n",
            "171. fuchsia 11\n",
            "172. maya 10\n",
            "173. sacramento 10\n",
            "174. fandango 10\n",
            "175. taffy 9\n",
            "176. brunette 9\n",
            "177. laguna 8\n",
            "178. sepia 7\n",
            "179. dark gray 7\n",
            "180. bisque 7\n",
            "181. khaki 6\n",
            "182. cornflower 6\n",
            "183. lollipop 6\n",
            "184. magenta 5\n",
            "185. sky blue 5\n",
            "186. mink 5\n",
            "187. ferrari 5\n",
            "188. light yellow 5\n",
            "189. honeydew 4\n",
            "190. indian red 4\n",
            "191. mocha 4\n",
            "192. cerise 3\n",
            "193. tangerine 3\n",
            "194. steel blue 3\n",
            "195. blanched almond 3\n",
            "196. blue violet 3\n",
            "197. air force 2\n",
            "198. hibiscus 2\n",
            "199. yellow green 2\n",
            "200. spring green 2\n",
            "201. light pink 2\n",
            "202. royal blue 1\n",
            "203. orange red 1\n",
            "204. dark violet 1\n",
            "205. moccasin 1\n",
            "206. redwood 1\n",
            "207. espresso 1\n",
            "208. sea shell 1\n",
            "209. forest green 1\n",
            "210. mint cream 1\n",
            "211. lawn green 1\n",
            "212. pale turquoise 1\n",
            "213. beige 0\n",
            "214. cadet blue 0\n",
            "215. denim 0\n",
            "216. slate blue 0\n",
            "217. dark slate gray 0\n",
            "218. cornsilk 0\n",
            "219. lemon chiffon 0\n",
            "220. fuchsla 0\n",
            "221. ghost white 0\n",
            "222. dark orange 0\n",
            "223. floral white 0\n",
            "224. whitesmoke 0\n",
            "225. light sea green 0\n",
            "226. green yellow 0\n",
            "227. light sky blue 0\n",
            "228. pale goldenrod 0\n",
            "229. pecan 0\n",
            "230. medium turquoise 0\n",
            "231. medium sea green 0\n",
            "232. dodger blue 0\n",
            "233. dark turquoise 0\n",
            "234. bumblebee 0\n",
            "235. sangria 0\n",
            "236. medium aquamarine 0\n",
            "237. light coral 0\n",
            "238. saddle brown 0\n",
            "239. midnight blue 0\n",
            "240. misty rose 0\n",
            "241. peach puff 0\n",
            "242. lavender blush 0\n",
            "243. hot pink 0\n",
            "244. olive drab 0\n",
            "245. dark goldenrod 0\n",
            "246. thulian 0\n",
            "247. navajo white 0\n",
            "248. dark olive green 0\n",
            "249. fire brick 0\n",
            "250. firebrick 0\n",
            "251. medium spring green 0\n",
            "252. antique white 0\n",
            "253. medium blue 0\n",
            "254. light cyan 0\n",
            "255. dark khaki 0\n",
            "256. dark magenta 0\n",
            "257. dark seagreen 0\n",
            "258. light salmon 0\n",
            "259. alice blue 0\n",
            "260. medium violet red 0\n",
            "261. pale violet red 0\n",
            "262. bubblegum 0\n",
            "263. peanut 0\n",
            "264. medium slate blue 0\n",
            "265. aquamarine 0\n",
            "266. deep pink 0\n",
            "267. rosy brown 0\n",
            "268. dark salmon 0\n",
            "269. powder blue 0\n",
            "270. dark cyan 0\n",
            "271. abalone 0\n",
            "272. light goldenrod yellow 0\n",
            "273. dark orchid 0\n",
            "274. lime green 0\n",
            "275. burlywood 0\n",
            "276. dark slate blue 0\n",
            "277. dim gray 0\n",
            "278. goldenrod 0\n",
            "279. papaya whip 0\n",
            "280. light steel blue 0\n",
            "281. USA flag 0\n",
            "282. light slate gray 0\n",
            "283. medium orchid 0\n",
            "284. cornflower blue 0\n",
            "285. deep sky blue 0\n",
            "286. medium purple 0\n",
            "287. sandy brown 0\n",
            "288. eggplant 0\n",
            "289. eggnog 0\n",
            "290. cyber 0\n"
          ]
        }
      ]
    },
    {
      "cell_type": "code",
      "source": [
        "adj_frequencies = {}\n",
        "for filename in filenames:\n",
        "  filepath = 'gdrive/MyDrive/ColabNotebooks/NLP_Files/SharedFolder/CLS/Data/clmet/corpus/txt/pos/' + filename\n",
        "  with open(filepath, encoding='utf-8') as file:\n",
        "    content = file.read()\n",
        "    text = re.sub(r'\\<.*?\\>', \"\", content)\n",
        "    for token in text.split():\n",
        "      try:\n",
        "        word = re.split('_', token)[0].lower()\n",
        "        pos = re.split('_', token)[1]\n",
        "        if word in colors and pos == 'JJ':\n",
        "          adj_frequencies[word] = frequencies.get(word, 0) + 1\n",
        "      except IndexError:\n",
        "        continue"
      ],
      "metadata": {
        "id": "n09wArPtaoMJ"
      },
      "execution_count": null,
      "outputs": []
    },
    {
      "cell_type": "code",
      "source": [
        "i = 1\n",
        "for k in sorted(adj_frequencies, key=adj_frequencies.get, reverse=True):\n",
        "  print(str(i) + \". \" + k, adj_frequencies[k])\n",
        "  i += 1"
      ],
      "metadata": {
        "colab": {
          "base_uri": "https://localhost:8080/"
        },
        "id": "_nyqCL9JjtAm",
        "outputId": "cb3063bc-d367-4201-fb12-49cc8db5c164"
      },
      "execution_count": null,
      "outputs": [
        {
          "output_type": "stream",
          "name": "stdout",
          "text": [
            "1. red 178299\n",
            "2. tan 100324\n",
            "3. umber 13998\n",
            "4. rust 10506\n",
            "5. wood 10380\n",
            "6. black 8574\n",
            "7. white 8361\n",
            "8. hot 7703\n",
            "9. stone 6975\n",
            "10. french 6921\n",
            "11. gold 6339\n",
            "12. green 5126\n",
            "13. royal 4994\n",
            "14. amber 4722\n",
            "15. lime 4634\n",
            "16. iron 3453\n",
            "17. blue 3310\n",
            "18. indian 3302\n",
            "19. brown 3299\n",
            "20. silver 3221\n",
            "21. olive 2048\n",
            "22. yellow 1760\n",
            "23. cream 1377\n",
            "24. imperial 1209\n",
            "25. plum 1187\n",
            "26. coffee 1180\n",
            "27. egyptian 1064\n",
            "28. punch 1052\n",
            "29. gray 1049\n",
            "30. burnt 988\n",
            "31. purple 950\n",
            "32. wheat 913\n",
            "33. persian 809\n",
            "34. african 721\n",
            "35. fossil 716\n",
            "36. orange 704\n",
            "37. pink 669\n",
            "38. coral 645\n",
            "39. electric 600\n",
            "40. scarlet 576\n",
            "41. turkish 562\n",
            "42. crimson 558\n",
            "43. pearl 549\n",
            "44. ruby 524\n",
            "45. peach 518\n",
            "46. lemon 508\n",
            "47. violet 439\n",
            "48. ecru 358\n",
            "49. ivory 322\n",
            "50. byzantine 320\n",
            "51. aqua 302\n",
            "52. bronze 290\n",
            "53. prussian 246\n",
            "54. carnation 207\n",
            "55. chocolate 205\n",
            "56. mellow 200\n",
            "57. mustard 177\n",
            "58. cedar 170\n",
            "59. azure 151\n",
            "60. walnut 120\n",
            "61. ultra 118\n",
            "62. emerald 101\n",
            "63. russet 100\n",
            "64. tawny 90\n",
            "65. pewter 88\n",
            "66. lavender 73\n",
            "67. indigo 61\n",
            "68. raspberry 61\n",
            "69. sapphire 56\n",
            "70. olympic 55\n",
            "71. flaxen 52\n",
            "72. mulberry 50\n",
            "73. artichoke 40\n",
            "74. carmine 29\n",
            "75. seagreen 26\n",
            "76. ochre 26\n",
            "77. maroon 26\n",
            "78. turquoise 25\n",
            "79. floral 20\n",
            "80. mauve 20\n",
            "81. flamingo 18\n",
            "82. creamy 17\n",
            "83. fuchsia 12\n",
            "84. brunette 10\n",
            "85. sepia 8\n",
            "86. khaki 7\n",
            "87. magenta 6\n",
            "88. cerise 4\n"
          ]
        }
      ]
    },
    {
      "cell_type": "code",
      "source": [
        "lemmatizer = WordNetLemmatizer()\n",
        "\n",
        "## golbal variables\n",
        "periods = list(selected_df.PERIOD.unique())\n",
        "\n",
        "def get_wordnet_pos(tag):\n",
        "  if tag.startswith('J'):\n",
        "    return wordnet.ADJ\n",
        "  elif tag.startswith('V'):\n",
        "    return wordnet.VERB\n",
        "  elif tag.startswith('N'):\n",
        "    return wordnet.NOUN\n",
        "  elif tag.startswith('R'):\n",
        "    return wordnet.ADV\n",
        "  else:\n",
        "    return wordnet.NOUN\n",
        "\n",
        "def file_reader(fname: str):\n",
        "  filepath = 'gdrive/MyDrive/ColabNotebooks/NLP_Files/SharedFolder/CLS/Data/clmet/corpus/txt/pos/' + fname\n",
        "  with open(filepath, encoding='utf-8') as file:\n",
        "    content = file.read()\n",
        "    text = re.sub(r'\\<.*?\\>', \"\", content)\n",
        "    tokens = text.split()\n",
        "    tokens = tokens[100:] # Ignoring the first 100 tokens as they normally contain the meta data\n",
        "  return tokens\n",
        "\n",
        "def lemmatize(tokens: list):\n",
        "  lemmas, text = [], []\n",
        "  for token in tokens:\n",
        "    try:\n",
        "      word = re.split('_', token)[0].lower()\n",
        "      text.append(word)\n",
        "      pos = re.split('_', token)[1]\n",
        "      pos = get_wordnet_pos(pos)\n",
        "      lemma = lemmatizer.lemmatize(word = word, pos = pos)\n",
        "      lemmas.append(lemma)\n",
        "    except IndexError:\n",
        "      continue\n",
        "  # lemma_string = ' '.join([str(lemma) for lemma in lemmas])\n",
        "  # text_string = ' '.join([str(word) for word in text])\n",
        "  return text, lemmas\n",
        "\n",
        "def generate_output_file(period: str, df):\n",
        "  out_filepath = 'gdrive/MyDrive/ColabNotebooks/NLP_Files/SharedFolder/CLS/Data/' + str(period) + '_final.csv'\n",
        "  df.to_csv(out_filepath, sep=',', encoding='utf-8', index = False)\n",
        "  return\n",
        "\n",
        "def create_df(period: str, df = selected_df):\n",
        "  new_df = df.loc[(df['PERIOD'] == period)]\n",
        "  gg = new_df.groupby(['GENDER']).agg({'n_tokens': 'sum'})\n",
        "  for idx, row in gg.iterrows():\n",
        "    f_tokens = gg.at['F', 'n_tokens']\n",
        "    m_tokens = gg.at['M', 'n_tokens']\n",
        "    diff = (1 - (f_tokens / m_tokens)) # Since in all periods males have more tokens\n",
        "  new_df[\"raw_text\"], new_df[\"pos_text\"], new_df[\"lemmas\"] = \"\", \"\", \"\"\n",
        "  for idx, row in new_df.iterrows():\n",
        "    filename = row['FILE']\n",
        "    tokens = file_reader(filename)\n",
        "    if row['GENDER'] == 'M':\n",
        "      begin_end = round((len(tokens) * diff) // 2)\n",
        "      tokens = tokens[begin_end: -begin_end]\n",
        "      new_df.at[idx, 'pos_text'] = tokens\n",
        "      new_df.at[idx, 'raw_text'] = lemmatize(tokens)[0]\n",
        "      new_df.at[idx, 'lemmas'] = lemmatize(tokens)[1]\n",
        "    elif row['GENDER'] == 'F':\n",
        "      new_df.at[idx, 'pos_text'] = tokens\n",
        "      new_df.at[idx, 'raw_text'] = lemmatize(tokens)[0]\n",
        "      new_df.at[idx, 'lemmas'] = lemmatize(tokens)[1]\n",
        "  return new_df\n",
        "\n",
        "def main():\n",
        "  for period in periods:\n",
        "    df = create_df(period)\n",
        "    generate_output_file(period, df)\n",
        "  return"
      ],
      "metadata": {
        "id": "qln-BMMt9h4T"
      },
      "execution_count": null,
      "outputs": []
    },
    {
      "cell_type": "code",
      "source": [
        "if __name__ == '__main__':\n",
        "  main()"
      ],
      "metadata": {
        "colab": {
          "base_uri": "https://localhost:8080/"
        },
        "id": "6OrDjI0JGsGq",
        "outputId": "a93efb4b-2c91-4938-bca7-6a936be66622"
      },
      "execution_count": null,
      "outputs": [
        {
          "output_type": "stream",
          "name": "stderr",
          "text": [
            "/usr/local/lib/python3.7/dist-packages/ipykernel_launcher.py:58: SettingWithCopyWarning: \n",
            "A value is trying to be set on a copy of a slice from a DataFrame.\n",
            "Try using .loc[row_indexer,col_indexer] = value instead\n",
            "\n",
            "See the caveats in the documentation: https://pandas.pydata.org/pandas-docs/stable/user_guide/indexing.html#returning-a-view-versus-a-copy\n"
          ]
        }
      ]
    }
  ]
}